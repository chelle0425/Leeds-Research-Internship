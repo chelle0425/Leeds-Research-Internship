{
 "cells": [
  {
   "cell_type": "code",
   "execution_count": 2,
   "metadata": {},
   "outputs": [
    {
     "name": "stderr",
     "output_type": "stream",
     "text": [
      "pygmt-session [WARNING]: Unable to determine current working directory.\n"
     ]
    },
    {
     "name": "stdout",
     "output_type": "stream",
     "text": [
      "PyGMT information:\n",
      "  version: v0.12.0\n",
      "System information:\n",
      "  python: 3.12.3 | packaged by conda-forge | (main, Apr 15 2024, 18:35:20) [Clang 16.0.6 ]\n",
      "  executable: /opt/anaconda3/envs/pygmt/bin/python\n",
      "  machine: macOS-14.5-arm64-arm-64bit\n",
      "Dependency information:\n",
      "  numpy: 2.0.0\n",
      "  pandas: 2.2.2\n",
      "  xarray: 2024.6.0\n",
      "  netCDF4: 1.6.5\n",
      "  packaging: 24.1\n",
      "  contextily: None\n",
      "  geopandas: None\n",
      "  ipython: None\n",
      "  rioxarray: None\n",
      "  ghostscript: 10.03.1\n",
      "GMT library information:\n",
      "  binary version: 6.5.0\n",
      "  cores: 8\n",
      "  grid layout: rows\n",
      "  image layout: \n",
      "  library path: /opt/anaconda3/envs/pygmt/lib/libgmt.dylib\n",
      "  padding: 2\n",
      "  plugin dir: /opt/anaconda3/envs/pygmt/lib/gmt/plugins\n",
      "  share dir: /opt/anaconda3/envs/pygmt/share/gmt\n",
      "  version: 6.5.0\n",
      "\n",
      "CondaError: Run 'conda init' before 'conda activate'\n",
      "\n"
     ]
    }
   ],
   "source": [
    "# installing pygmt properly https://www.pygmt.org/latest/install.html\n",
    "import pygmt\n",
    "pygmt.show_versions()\n",
    "\n",
    "# conda activate pygmt"
   ]
  },
  {
   "cell_type": "code",
   "execution_count": 2,
   "metadata": {},
   "outputs": [],
   "source": [
    "### Imports ###\n",
    "import matplotlib.pyplot as plt\n",
    "from PIL import Image\n",
    "import matplotlib.image as mpimg \n",
    "from mpl_toolkits.basemap import Basemap \n",
    "\n",
    "# make sure to test environment.yml\n",
    "# needs to work without gmt/ pygmt (as in it installs that as well)\n"
   ]
  }
 ],
 "metadata": {
  "kernelspec": {
   "display_name": "pygmt",
   "language": "python",
   "name": "python3"
  },
  "language_info": {
   "codemirror_mode": {
    "name": "ipython",
    "version": 3
   },
   "file_extension": ".py",
   "mimetype": "text/x-python",
   "name": "python",
   "nbconvert_exporter": "python",
   "pygments_lexer": "ipython3",
   "version": "3.12.3"
  }
 },
 "nbformat": 4,
 "nbformat_minor": 2
}
